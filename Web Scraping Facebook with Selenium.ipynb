{
 "cells": [
  {
   "cell_type": "code",
   "execution_count": 3,
   "metadata": {},
   "outputs": [],
   "source": [
    "from selenium import webdriver\n",
    "from selenium.webdriver.common.keys import Keys\n",
    "from selenium.webdriver.support import expected_conditions as EC\n",
    "from selenium.webdriver.common.by import By\n",
    "from selenium.webdriver.support.wait import WebDriverWait\n",
    "import time"
   ]
  },
  {
   "cell_type": "code",
   "execution_count": 4,
   "metadata": {},
   "outputs": [],
   "source": [
    "driver = webdriver.Chrome()"
   ]
  },
  {
   "cell_type": "markdown",
   "metadata": {},
   "source": [
    "* images uploaded by yourself\n",
    "* images you were tagged in, uploaded by others"
   ]
  },
  {
   "cell_type": "markdown",
   "metadata": {},
   "source": [
    "Step 1: Disable Alerts/Notifications"
   ]
  },
  {
   "cell_type": "code",
   "execution_count": 5,
   "metadata": {},
   "outputs": [
    {
     "name": "stderr",
     "output_type": "stream",
     "text": [
      "<ipython-input-5-c0c4c943fc64>:4: DeprecationWarning: use options instead of chrome_options\n",
      "  driver = webdriver.Chrome(chrome_options=chrome_options)\n"
     ]
    }
   ],
   "source": [
    "chrome_options = webdriver.ChromeOptions()\n",
    "prefs = {\"profile.default_content_setting_values.notifications\" : 2}\n",
    "chrome_options.add_experimental_option(\"prefs\",prefs)\n",
    "driver = webdriver.Chrome(chrome_options=chrome_options)"
   ]
  },
  {
   "cell_type": "markdown",
   "metadata": {},
   "source": [
    "Step 2: Log into your personal Facebook account\n",
    "\n",
    "MAKE SURE to replace my_username and my_password with your own unique values"
   ]
  },
  {
   "cell_type": "code",
   "execution_count": 6,
   "metadata": {},
   "outputs": [],
   "source": [
    "#open the webpage\n",
    "driver.get(\"http://www.facebook.com\")"
   ]
  },
  {
   "cell_type": "markdown",
   "metadata": {},
   "source": [
    "#target username"
   ]
  },
  {
   "cell_type": "code",
   "execution_count": 7,
   "metadata": {},
   "outputs": [],
   "source": [
    "user_name = WebDriverWait(driver, 3).until(EC.element_to_be_clickable((By.CSS_SELECTOR,\"input[type='text']\")))\n",
    "password = WebDriverWait(driver, 3).until(EC.element_to_be_clickable((By.CSS_SELECTOR,\"input[type='password']\")))"
   ]
  },
  {
   "cell_type": "markdown",
   "metadata": {},
   "source": [
    "#enter username and password"
   ]
  },
  {
   "cell_type": "code",
   "execution_count": 8,
   "metadata": {},
   "outputs": [
    {
     "ename": "NameError",
     "evalue": "name 'user' is not defined",
     "output_type": "error",
     "traceback": [
      "\u001b[1;31m---------------------------------------------------------------------------\u001b[0m",
      "\u001b[1;31mNameError\u001b[0m                                 Traceback (most recent call last)",
      "\u001b[1;32m<ipython-input-8-979a434cdb77>\u001b[0m in \u001b[0;36m<module>\u001b[1;34m\u001b[0m\n\u001b[0;32m      1\u001b[0m \u001b[0muser_name\u001b[0m\u001b[1;33m.\u001b[0m\u001b[0mclear\u001b[0m\u001b[1;33m(\u001b[0m\u001b[1;33m)\u001b[0m\u001b[1;33m\u001b[0m\u001b[1;33m\u001b[0m\u001b[0m\n\u001b[1;32m----> 2\u001b[1;33m \u001b[0muser_name\u001b[0m\u001b[1;33m.\u001b[0m\u001b[0msend_keys\u001b[0m\u001b[1;33m(\u001b[0m\u001b[0muser\u001b[0m\u001b[1;33m)\u001b[0m\u001b[1;33m\u001b[0m\u001b[1;33m\u001b[0m\u001b[0m\n\u001b[0m\u001b[0;32m      3\u001b[0m \u001b[1;33m\u001b[0m\u001b[0m\n\u001b[0;32m      4\u001b[0m \u001b[0mpassword\u001b[0m\u001b[1;33m.\u001b[0m\u001b[0mclear\u001b[0m\u001b[1;33m(\u001b[0m\u001b[1;33m)\u001b[0m\u001b[1;33m\u001b[0m\u001b[1;33m\u001b[0m\u001b[0m\n\u001b[0;32m      5\u001b[0m \u001b[0mpassword\u001b[0m\u001b[1;33m.\u001b[0m\u001b[0msend_keys\u001b[0m\u001b[1;33m(\u001b[0m\u001b[0mp\u001b[0m\u001b[1;33m)\u001b[0m\u001b[1;33m\u001b[0m\u001b[1;33m\u001b[0m\u001b[0m\n",
      "\u001b[1;31mNameError\u001b[0m: name 'user' is not defined"
     ]
    }
   ],
   "source": [
    "user_name.clear()\n",
    "user_name.send_keys(user)\n",
    "\n",
    "password.clear()\n",
    "password.send_keys(p)\n",
    "type=\"submit\""
   ]
  },
  {
   "cell_type": "markdown",
   "metadata": {},
   "source": [
    "#target the login button and click it"
   ]
  },
  {
   "cell_type": "code",
   "execution_count": null,
   "metadata": {},
   "outputs": [],
   "source": [
    "button = WebDriverWait(driver, 3).until(EC.element_to_be_clickable((By.CSS_SELECTOR,\"button[type='submit']\"))).click()"
   ]
  },
  {
   "cell_type": "markdown",
   "metadata": {},
   "source": [
    "Step 3: Extract All the Photos\n",
    "!! Update goldie.may.750 to your own unique profile address !!\n",
    "\n",
    "* Create an empty list (images)\n",
    "* Loop over all the photos you've ever uploaded (photos_all)\n",
    "* Loop over all the photos you were ever tagged in by other users(photos)\n",
    "* Scroll to the very bottom of the page (or to a certain range)\n",
    "* Extract links to photos\n",
    "* Follow the link and extract store the image inside (images)"
   ]
  },
  {
   "cell_type": "code",
   "execution_count": null,
   "metadata": {
    "scrolled": true
   },
   "outputs": [],
   "source": [
    "#wait 5 seconds to allow your new page to load\n",
    "time.sleep(5)\n",
    "\n",
    "images = []\n",
    "\n",
    "#itterate over both uploaded and tagged images respectively\n",
    "for i in [\"photos_of\", \"photos_by\"]:\n",
    "    driver.get(f\"https://www.facebook.com/98Talha/{i}/\")\n",
    "    time.sleep(5)\n",
    "    #scroll down\n",
    "    #increase the range to sroll more\n",
    "    #example: range(0,10) scrolls down 650+ images\n",
    "    for j in range(0,1):\n",
    "        driver.execute_script(\"window.scrollTo(0, document.body.scrollHeight);\")\n",
    "        time.sleep(3)\n",
    "        #target all the link elements on the page\n",
    "        anchor = driver.find_elements_by_tag_name(\"a\")\n",
    "        anchor = [i.get_attribute(\"href\")for i in anchor]\n",
    "        anchor = [i for i in anchor if str(i).startswith(\"https://www.facebook.com/photo\")]\n",
    "        print('Found ' + str(len(anchor)) + ' links to images')\n",
    "    anchor = list(set(anchor))\n",
    "    for i in anchor[:9]:\n",
    "        driver.get(i)\n",
    "        time.sleep(3)\n",
    "        css = 'img[data-visualcompletion=\"media-vc-image\"]'\n",
    "        img = driver.find_element_by_css_selector(css).get_attribute(\"src\")  \n",
    "        images.append(img)"
   ]
  },
  {
   "cell_type": "code",
   "execution_count": null,
   "metadata": {},
   "outputs": [],
   "source": [
    "import os\n",
    "\n",
    "path = os.getcwd()\n",
    "path = os.path.join(path, user)\n",
    "\n",
    "#create the directory\n",
    "os.mkdir(path)"
   ]
  },
  {
   "cell_type": "code",
   "execution_count": null,
   "metadata": {},
   "outputs": [],
   "source": [
    "import wget\n",
    "counter = 0\n",
    "for image in images:\n",
    "    counter += 1\n",
    "    save_as = os.path.join(path,user + str(counter)+\".jpg\")\n",
    "    wget.download(image, save_as)"
   ]
  },
  {
   "cell_type": "code",
   "execution_count": null,
   "metadata": {},
   "outputs": [],
   "source": []
  }
 ],
 "metadata": {
  "kernelspec": {
   "display_name": "Python 3",
   "language": "python",
   "name": "python3"
  },
  "language_info": {
   "codemirror_mode": {
    "name": "ipython",
    "version": 3
   },
   "file_extension": ".py",
   "mimetype": "text/x-python",
   "name": "python",
   "nbconvert_exporter": "python",
   "pygments_lexer": "ipython3",
   "version": "3.8.3"
  }
 },
 "nbformat": 4,
 "nbformat_minor": 4
}
